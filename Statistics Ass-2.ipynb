{
 "cells": [
  {
   "cell_type": "code",
   "execution_count": null,
   "metadata": {},
   "outputs": [],
   "source": [
    "# Assignment-2\n",
    "# Que-1 How can we figure out what the interquartile range is?\n",
    "\n",
    "# Ans-1 Inter-quartile range measure the middle 50% of data and it indicate how the data is dispersed around the mean and its a difference between the third quartile and first quartile value of the dataset."
   ]
  },
  {
   "cell_type": "code",
   "execution_count": null,
   "metadata": {},
   "outputs": [],
   "source": [
    "# Que-2 What exactly is the value of the 5-number theory?\n",
    "\n",
    "#Ans-2 The minimum – this is the smallest value in our data set.\n",
    "      #The first quartile – this number is denoted Q1 and 25% of our data falls below the first quartile.\n",
    "      #The median – this is the midway point of the data. 50% of all data falls below the median.\n",
    "      #The third quartile – this number is denoted Q3 and 75% of our data falls below the third quartile.\n",
    "      #The maximum – this is the largest value in our data set."
   ]
  },
  {
   "cell_type": "code",
   "execution_count": null,
   "metadata": {},
   "outputs": [],
   "source": [
    "# Que-3 What is the relationship between standard deviation and variance?\n",
    "# Ans-3 Variance represents the average squared deviation from the mean value of the data, whle standard deviation represents the square root of that number."
   ]
  },
  {
   "cell_type": "code",
   "execution_count": null,
   "metadata": {},
   "outputs": [],
   "source": [
    "# Que-4 What does the difference between variance and standard deviation mean?\n",
    "# Ans-4 Standard deviation is the spread of a group of numbers from the mean. The Variance measures the average degree to which each point differs from the mean.\n",
    "      # Standard deviation is the square root of the variance and variance is the average of all data points within a group."
   ]
  },
  {
   "cell_type": "code",
   "execution_count": null,
   "metadata": {},
   "outputs": [],
   "source": [
    "# Que-5 When is it appropriate to refer to a skewed data distribution?\n",
    "# Ans-5 A distribution is skewed if one of its tails is longer than other. The first distribution shown has a positive skew. This means that it has a long tail in positive direction. The distributuion below it has a negative skew since it has a long tail in the negative direction."
   ]
  }
 ],
 "metadata": {
  "kernelspec": {
   "display_name": "Python 3",
   "language": "python",
   "name": "python3"
  },
  "language_info": {
   "codemirror_mode": {
    "name": "ipython",
    "version": 3
   },
   "file_extension": ".py",
   "mimetype": "text/x-python",
   "name": "python",
   "nbconvert_exporter": "python",
   "pygments_lexer": "ipython3",
   "version": "3.8.5"
  }
 },
 "nbformat": 4,
 "nbformat_minor": 4
}
