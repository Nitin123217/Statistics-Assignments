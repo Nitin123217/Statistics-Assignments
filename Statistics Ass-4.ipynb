{
 "cells": [
  {
   "cell_type": "code",
   "execution_count": null,
   "metadata": {},
   "outputs": [],
   "source": [
    "# Assignment-4 \n",
    "\n",
    "# Que-1 What is the definition of covariance? Create the formula for it.\n",
    "# Ans-1 Covariance measures the direct relationship between the returns on two assets. A positive covariance means that asset returns move together while negative covariance means they move inversely.\n",
    "# Formula = Covariance = (Return abc - Avg abc) * (Return xyz - Avg xyz)/Sample size-1"
   ]
  },
  {
   "cell_type": "code",
   "execution_count": null,
   "metadata": {},
   "outputs": [],
   "source": [
    "# Que-2 What makes Correlations better than Covariance?\n",
    "# Ans-2 When it comes to making a choice between correlation and covariance to meansure relationship between variables correlation is preferred over covariance because it does not affected by the change in the scale."
   ]
  },
  {
   "cell_type": "code",
   "execution_count": null,
   "metadata": {},
   "outputs": [],
   "source": [
    "# Que-3 Explain the process as well as Pearson and Spearman Correlation.\n",
    "# Ans-3 Pearson correlation evaluates the linear relationship between two continuous variables.\n",
    "      # Spearman Correlation evaluates the monotonic relationship. The spearman correlation coefficient is based on the ranked values for each variable rather than the raw data."
   ]
  },
  {
   "cell_type": "code",
   "execution_count": null,
   "metadata": {},
   "outputs": [],
   "source": [
    "# Que-4 What are the advantages of Spearman Correlation over Pearson Correlation?\n",
    "# Ans-4 The main advantage is spearman correlation is more appropriate for measurement taken from ordinal scales and pearson correlation is most appropriate for measurements taken from an interval scale."
   ]
  },
  {
   "cell_type": "code",
   "execution_count": null,
   "metadata": {},
   "outputs": [],
   "source": [
    "# Que-5 Describe the Central Limit Theorem\n",
    "# Ans-5 Central limit theorem states that when plotting a sampling distribution of mean the mean of a sample mean is equal to the population mean and then sampling distribution approaches to normal distribution with variance equal to sigma/n"
   ]
  }
 ],
 "metadata": {
  "kernelspec": {
   "display_name": "Python 3",
   "language": "python",
   "name": "python3"
  },
  "language_info": {
   "codemirror_mode": {
    "name": "ipython",
    "version": 3
   },
   "file_extension": ".py",
   "mimetype": "text/x-python",
   "name": "python",
   "nbconvert_exporter": "python",
   "pygments_lexer": "ipython3",
   "version": "3.8.5"
  }
 },
 "nbformat": 4,
 "nbformat_minor": 4
}
