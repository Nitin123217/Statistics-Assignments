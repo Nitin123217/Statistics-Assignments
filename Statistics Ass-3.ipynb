{
 "cells": [
  {
   "cell_type": "code",
   "execution_count": null,
   "metadata": {},
   "outputs": [],
   "source": [
    "# Assignment-3\n",
    "\n",
    "# Que-1 Write the Gaussian Distribution empirical formula.\n",
    "# Ans-1 Under this rule, 68% of the data falls within one standard deviation, 95% percent within two standard deviations, and 99.7% within three standard deviations from the mean."
   ]
  },
  {
   "cell_type": "code",
   "execution_count": null,
   "metadata": {},
   "outputs": [],
   "source": [
    "# Que-2 What is the Z-score, and why is it important?\n",
    "# Ans-2 The Z-score is particularly important because it tells you not only something about the value itself but also where the value lies in the distribution."
   ]
  },
  {
   "cell_type": "code",
   "execution_count": null,
   "metadata": {},
   "outputs": [],
   "source": [
    "# Que-3 What is an outlier, exactly?\n",
    "# Ans-3 An outlier is an observation that lies an abnormal distance from other values in a random sample from a population."
   ]
  },
  {
   "cell_type": "code",
   "execution_count": null,
   "metadata": {},
   "outputs": [],
   "source": [
    "# Que-4 What are our options for dealing with outliers in our dataset?\n",
    "# Ans-4 1. Set up filter in your testing tool\n",
    "       # 2. Remove or change outliers during post test analysis\n",
    "       # 3. Change the value of outliers.\n",
    "       # 4. Consider the underlying distribution.\n",
    "       # 5. Consider the value of mild outliers."
   ]
  },
  {
   "cell_type": "code",
   "execution_count": null,
   "metadata": {},
   "outputs": [],
   "source": [
    "# Que-5 Write the sample and population variances equations and explain Bessel correction.\n",
    "# Ans-5 Sample variance equation is = 1/N-1(xi-x-)2\n",
    "       #Population variance equation is = 1/N(xi-u)2\n",
    "    # The idea behind that is a more unbiased measure of variance that the ususal defination.\n"
   ]
  }
 ],
 "metadata": {
  "kernelspec": {
   "display_name": "Python 3",
   "language": "python",
   "name": "python3"
  },
  "language_info": {
   "codemirror_mode": {
    "name": "ipython",
    "version": 3
   },
   "file_extension": ".py",
   "mimetype": "text/x-python",
   "name": "python",
   "nbconvert_exporter": "python",
   "pygments_lexer": "ipython3",
   "version": "3.8.5"
  }
 },
 "nbformat": 4,
 "nbformat_minor": 4
}
