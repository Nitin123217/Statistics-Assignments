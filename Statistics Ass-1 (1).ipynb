{
 "cells": [
  {
   "cell_type": "code",
   "execution_count": null,
   "metadata": {},
   "outputs": [],
   "source": [
    "# Que-1 What exactly is the difference between descriptive and inferential statistics?\n",
    "\n",
    "# Ans-1 Descriptive statistics describe data for example a chart, graph and Inferential statistics allows you to make predictions (\"inferences\") from the data."
   ]
  },
  {
   "cell_type": "code",
   "execution_count": null,
   "metadata": {},
   "outputs": [],
   "source": [
    "# Que-2 I'm not sure what is the difference between a sample and a population?\n",
    "\n",
    "# Ans-2 Population:- It is the entire group that you want to draw conclusion about.\n",
    "# Sample:- It is the specific group that you will collect data from. The size of the sample is always smaller than the total size of the population."
   ]
  },
  {
   "cell_type": "code",
   "execution_count": null,
   "metadata": {},
   "outputs": [],
   "source": [
    "# Que-3 What distinguishes descriptive statistics from other types of statistics.\n",
    "\n",
    "# Ans-3 Descriptive statistics are used to describe the characterstics or features of a dataset and it is used to describe both an entire population or an individual sample."
   ]
  },
  {
   "cell_type": "code",
   "execution_count": null,
   "metadata": {},
   "outputs": [],
   "source": [
    "#Que-4 What is the difference between quantitative and qualitative data?\n",
    "\n",
    "#Answ-4 Quantitative data refers to any information that can be quantified, counted or measured and given a numerical value \n",
    "# Qualitative data is descriptive in nature, expressed in terms of language rather than numerical value."
   ]
  },
  {
   "cell_type": "code",
   "execution_count": null,
   "metadata": {},
   "outputs": [],
   "source": [
    "#Que-5 What is the definition of a percentile?\n",
    "\n",
    "# Ans-5 In Statistics a percentile is a term that describes how a score compares to other scores from the same set."
   ]
  }
 ],
 "metadata": {
  "kernelspec": {
   "display_name": "Python 3",
   "language": "python",
   "name": "python3"
  },
  "language_info": {
   "codemirror_mode": {
    "name": "ipython",
    "version": 3
   },
   "file_extension": ".py",
   "mimetype": "text/x-python",
   "name": "python",
   "nbconvert_exporter": "python",
   "pygments_lexer": "ipython3",
   "version": "3.8.5"
  }
 },
 "nbformat": 4,
 "nbformat_minor": 4
}
